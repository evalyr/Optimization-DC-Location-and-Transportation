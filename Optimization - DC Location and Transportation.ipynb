{
  "nbformat": 4,
  "nbformat_minor": 0,
  "metadata": {
    "colab": {
      "provenance": []
    },
    "kernelspec": {
      "name": "python3",
      "display_name": "Python 3"
    },
    "language_info": {
      "name": "python"
    }
  },
  "cells": [
    {
      "cell_type": "markdown",
      "source": [
        "# DC Location and Transportation Optimization"
      ],
      "metadata": {
        "id": "jCnU6bUvNf2c"
      }
    },
    {
      "cell_type": "markdown",
      "source": [
        "<img src='https://drive.google.com/uc?id=1dGi9mJwdWCOKMH_8KxwNMzAx4Ch2_B1O' width=\"600\" height=\"400\">  \n",
        "\n",
        "Data from a manufacturer who distributes nationwide. They are now deciding where to locate their distribution center(s) [DCs]: New York, Atlanta, Chicago, or Los Angeles. Each potential DC location has a fixed annual operating cost if they locate a distribution center there. It also shows the per unit distribution cost from each potential DC location to each region, the capacity of each potential DC location, and the required shipping demand in each region. You need to determine how many and which DC locations to use – and how DCs satisfy the retail city demand needs -- in order to minimize the total fixed operating expenses plus distribution costs."
      ],
      "metadata": {
        "id": "RZfj4WbxPnZB"
      }
    },
    {
      "cell_type": "markdown",
      "source": [
        "## Set-up"
      ],
      "metadata": {
        "id": "ldXoaY2SnGuM"
      }
    },
    {
      "cell_type": "code",
      "source": [
        "# Import libraries\n",
        "!pip install -q pyomo\n",
        "from pyomo.environ import *\n",
        "!apt-get install -y -qq glpk-utils\n",
        "\n",
        "import pandas as pd\n",
        "import numpy as np"
      ],
      "metadata": {
        "id": "DBlu8wPAenDd"
      },
      "execution_count": null,
      "outputs": []
    },
    {
      "cell_type": "markdown",
      "source": [
        "## Load dataframe"
      ],
      "metadata": {
        "id": "qS-PssdCnJw1"
      }
    },
    {
      "cell_type": "code",
      "execution_count": null,
      "metadata": {
        "colab": {
          "base_uri": "https://localhost:8080/",
          "height": 75
        },
        "id": "pJi2rQfWeQwm",
        "outputId": "d0dc1e8a-4cbd-467a-d5c3-f175559c4a80"
      },
      "outputs": [
        {
          "output_type": "display_data",
          "data": {
            "text/plain": [
              "<IPython.core.display.HTML object>"
            ],
            "text/html": [
              "\n",
              "     <input type=\"file\" id=\"files-cbffac4d-5e80-419d-81cb-9b131a730c05\" name=\"files[]\" multiple disabled\n",
              "        style=\"border:none\" />\n",
              "     <output id=\"result-cbffac4d-5e80-419d-81cb-9b131a730c05\">\n",
              "      Upload widget is only available when the cell has been executed in the\n",
              "      current browser session. Please rerun this cell to enable.\n",
              "      </output>\n",
              "      <script>// Copyright 2017 Google LLC\n",
              "//\n",
              "// Licensed under the Apache License, Version 2.0 (the \"License\");\n",
              "// you may not use this file except in compliance with the License.\n",
              "// You may obtain a copy of the License at\n",
              "//\n",
              "//      http://www.apache.org/licenses/LICENSE-2.0\n",
              "//\n",
              "// Unless required by applicable law or agreed to in writing, software\n",
              "// distributed under the License is distributed on an \"AS IS\" BASIS,\n",
              "// WITHOUT WARRANTIES OR CONDITIONS OF ANY KIND, either express or implied.\n",
              "// See the License for the specific language governing permissions and\n",
              "// limitations under the License.\n",
              "\n",
              "/**\n",
              " * @fileoverview Helpers for google.colab Python module.\n",
              " */\n",
              "(function(scope) {\n",
              "function span(text, styleAttributes = {}) {\n",
              "  const element = document.createElement('span');\n",
              "  element.textContent = text;\n",
              "  for (const key of Object.keys(styleAttributes)) {\n",
              "    element.style[key] = styleAttributes[key];\n",
              "  }\n",
              "  return element;\n",
              "}\n",
              "\n",
              "// Max number of bytes which will be uploaded at a time.\n",
              "const MAX_PAYLOAD_SIZE = 100 * 1024;\n",
              "\n",
              "function _uploadFiles(inputId, outputId) {\n",
              "  const steps = uploadFilesStep(inputId, outputId);\n",
              "  const outputElement = document.getElementById(outputId);\n",
              "  // Cache steps on the outputElement to make it available for the next call\n",
              "  // to uploadFilesContinue from Python.\n",
              "  outputElement.steps = steps;\n",
              "\n",
              "  return _uploadFilesContinue(outputId);\n",
              "}\n",
              "\n",
              "// This is roughly an async generator (not supported in the browser yet),\n",
              "// where there are multiple asynchronous steps and the Python side is going\n",
              "// to poll for completion of each step.\n",
              "// This uses a Promise to block the python side on completion of each step,\n",
              "// then passes the result of the previous step as the input to the next step.\n",
              "function _uploadFilesContinue(outputId) {\n",
              "  const outputElement = document.getElementById(outputId);\n",
              "  const steps = outputElement.steps;\n",
              "\n",
              "  const next = steps.next(outputElement.lastPromiseValue);\n",
              "  return Promise.resolve(next.value.promise).then((value) => {\n",
              "    // Cache the last promise value to make it available to the next\n",
              "    // step of the generator.\n",
              "    outputElement.lastPromiseValue = value;\n",
              "    return next.value.response;\n",
              "  });\n",
              "}\n",
              "\n",
              "/**\n",
              " * Generator function which is called between each async step of the upload\n",
              " * process.\n",
              " * @param {string} inputId Element ID of the input file picker element.\n",
              " * @param {string} outputId Element ID of the output display.\n",
              " * @return {!Iterable<!Object>} Iterable of next steps.\n",
              " */\n",
              "function* uploadFilesStep(inputId, outputId) {\n",
              "  const inputElement = document.getElementById(inputId);\n",
              "  inputElement.disabled = false;\n",
              "\n",
              "  const outputElement = document.getElementById(outputId);\n",
              "  outputElement.innerHTML = '';\n",
              "\n",
              "  const pickedPromise = new Promise((resolve) => {\n",
              "    inputElement.addEventListener('change', (e) => {\n",
              "      resolve(e.target.files);\n",
              "    });\n",
              "  });\n",
              "\n",
              "  const cancel = document.createElement('button');\n",
              "  inputElement.parentElement.appendChild(cancel);\n",
              "  cancel.textContent = 'Cancel upload';\n",
              "  const cancelPromise = new Promise((resolve) => {\n",
              "    cancel.onclick = () => {\n",
              "      resolve(null);\n",
              "    };\n",
              "  });\n",
              "\n",
              "  // Wait for the user to pick the files.\n",
              "  const files = yield {\n",
              "    promise: Promise.race([pickedPromise, cancelPromise]),\n",
              "    response: {\n",
              "      action: 'starting',\n",
              "    }\n",
              "  };\n",
              "\n",
              "  cancel.remove();\n",
              "\n",
              "  // Disable the input element since further picks are not allowed.\n",
              "  inputElement.disabled = true;\n",
              "\n",
              "  if (!files) {\n",
              "    return {\n",
              "      response: {\n",
              "        action: 'complete',\n",
              "      }\n",
              "    };\n",
              "  }\n",
              "\n",
              "  for (const file of files) {\n",
              "    const li = document.createElement('li');\n",
              "    li.append(span(file.name, {fontWeight: 'bold'}));\n",
              "    li.append(span(\n",
              "        `(${file.type || 'n/a'}) - ${file.size} bytes, ` +\n",
              "        `last modified: ${\n",
              "            file.lastModifiedDate ? file.lastModifiedDate.toLocaleDateString() :\n",
              "                                    'n/a'} - `));\n",
              "    const percent = span('0% done');\n",
              "    li.appendChild(percent);\n",
              "\n",
              "    outputElement.appendChild(li);\n",
              "\n",
              "    const fileDataPromise = new Promise((resolve) => {\n",
              "      const reader = new FileReader();\n",
              "      reader.onload = (e) => {\n",
              "        resolve(e.target.result);\n",
              "      };\n",
              "      reader.readAsArrayBuffer(file);\n",
              "    });\n",
              "    // Wait for the data to be ready.\n",
              "    let fileData = yield {\n",
              "      promise: fileDataPromise,\n",
              "      response: {\n",
              "        action: 'continue',\n",
              "      }\n",
              "    };\n",
              "\n",
              "    // Use a chunked sending to avoid message size limits. See b/62115660.\n",
              "    let position = 0;\n",
              "    do {\n",
              "      const length = Math.min(fileData.byteLength - position, MAX_PAYLOAD_SIZE);\n",
              "      const chunk = new Uint8Array(fileData, position, length);\n",
              "      position += length;\n",
              "\n",
              "      const base64 = btoa(String.fromCharCode.apply(null, chunk));\n",
              "      yield {\n",
              "        response: {\n",
              "          action: 'append',\n",
              "          file: file.name,\n",
              "          data: base64,\n",
              "        },\n",
              "      };\n",
              "\n",
              "      let percentDone = fileData.byteLength === 0 ?\n",
              "          100 :\n",
              "          Math.round((position / fileData.byteLength) * 100);\n",
              "      percent.textContent = `${percentDone}% done`;\n",
              "\n",
              "    } while (position < fileData.byteLength);\n",
              "  }\n",
              "\n",
              "  // All done.\n",
              "  yield {\n",
              "    response: {\n",
              "      action: 'complete',\n",
              "    }\n",
              "  };\n",
              "}\n",
              "\n",
              "scope.google = scope.google || {};\n",
              "scope.google.colab = scope.google.colab || {};\n",
              "scope.google.colab._files = {\n",
              "  _uploadFiles,\n",
              "  _uploadFilesContinue,\n",
              "};\n",
              "})(self);\n",
              "</script> "
            ]
          },
          "metadata": {}
        },
        {
          "output_type": "stream",
          "name": "stdout",
          "text": [
            "Saving P4_Lin.xlsx to P4_Lin (1).xlsx\n"
          ]
        }
      ],
      "source": [
        "from google.colab import files\n",
        "uploaded = files.upload()"
      ]
    },
    {
      "cell_type": "code",
      "source": [
        "dc = pd.read_excel(open('P4_Lin.xlsx','rb'), sheet_name = 'DCdata') \n",
        "print(dc.head())\n",
        "print('DC:', dc.shape)"
      ],
      "metadata": {
        "colab": {
          "base_uri": "https://localhost:8080/"
        },
        "id": "r7eSXmnGecQO",
        "outputId": "c8e725a4-dd33-4347-a415-d2c481aa493a"
      },
      "execution_count": null,
      "outputs": [
        {
          "output_type": "stream",
          "name": "stdout",
          "text": [
            "         location  capacity  fixedcost\n",
            "0          Durham     20655    3831700\n",
            "1      Fort Wayne     11279    1848400\n",
            "2  St. Petersburg     25376    2190000\n",
            "3          Laredo     40169    1361300\n",
            "4         Buffalo     25167    1312000\n",
            "DC: (23, 3)\n"
          ]
        }
      ]
    },
    {
      "cell_type": "code",
      "source": [
        "# Converting location, capacity, and fixedcost to a list.\n",
        "dc_loc = dc['location'].tolist()\n",
        "capacity = dc['capacity'].tolist()\n",
        "fixedcost = dc['fixedcost'].tolist()"
      ],
      "metadata": {
        "id": "G74gey8inarm"
      },
      "execution_count": null,
      "outputs": []
    },
    {
      "cell_type": "code",
      "source": [
        "city = pd.read_excel(open('P4_Lin.xlsx','rb'), sheet_name = 'citydata') \n",
        "print(city.head())\n",
        "print('City:', city.shape)"
      ],
      "metadata": {
        "colab": {
          "base_uri": "https://localhost:8080/"
        },
        "id": "TGEZmkDeesP1",
        "outputId": "7b3e538a-420d-4d21-a225-0fe0867d8e21"
      },
      "execution_count": null,
      "outputs": [
        {
          "output_type": "stream",
          "name": "stdout",
          "text": [
            "          city  demand\n",
            "0     New York    8622\n",
            "1  Los Angeles    3999\n",
            "2      Chicago    2716\n",
            "3      Houston    3284\n",
            "4      Phoenix    1626\n",
            "City: (76, 2)\n"
          ]
        }
      ]
    },
    {
      "cell_type": "code",
      "source": [
        "# Converting demand and names of city to a list.\n",
        "demand = city['demand'].tolist()\n",
        "cities = city['city'].tolist()"
      ],
      "metadata": {
        "id": "cD1hJjOdmHmY"
      },
      "execution_count": null,
      "outputs": []
    },
    {
      "cell_type": "code",
      "source": [
        "dist = pd.read_excel(open('P4_Lin.xlsx','rb'), sheet_name = 'distcost') \n",
        "print(dist.head())\n",
        "print('Dist:', dist.shape)"
      ],
      "metadata": {
        "colab": {
          "base_uri": "https://localhost:8080/"
        },
        "id": "kT3Q5jbWezij",
        "outputId": "66aa2179-fcee-4172-8a58-446f0614faef"
      },
      "execution_count": null,
      "outputs": [
        {
          "output_type": "stream",
          "name": "stdout",
          "text": [
            "       Unnamed: 0  New York  Los Angeles  Chicago  Houston  Phoenix  \\\n",
            "0          Durham      2693         1752     1820     2585     2861   \n",
            "1      Fort Wayne      2690         2581     1851     2175     1851   \n",
            "2  St. Petersburg      2480         3128     2782     2213     2837   \n",
            "3          Laredo      5144         5693     3046     5593     4414   \n",
            "4         Buffalo      3436         4475     4340     5177     4286   \n",
            "\n",
            "   Philadelphia  San Antonio  San Diego  Dallas  ...  Anchorage  Greensboro  \\\n",
            "0          3446         3814       3100    2098  ...       2240        2169   \n",
            "1          1895         2529       2525    1872  ...       1042        2098   \n",
            "2          3252         2588       2735    1111  ...       1521        2142   \n",
            "3          4492         5348       5757    4681  ...       5324        5901   \n",
            "4          4186         4459       4863    5337  ...       5642        5111   \n",
            "\n",
            "   Plano  Newark  Lincoln  Orlando  Irvine  Toledo  Jersey City  Chula Vista  \n",
            "0   2906    1592     3903     1351    3545    2851         1936         3710  \n",
            "1   2770    1614      835     2652     694     294         1702         1341  \n",
            "2   2392     500     1800     1270    1132     597         1730         3385  \n",
            "3   4510    3718     3165     5423    3204    3431         5895         4124  \n",
            "4   5504    4217     4031     4532    5300    5761         4460         4240  \n",
            "\n",
            "[5 rows x 77 columns]\n",
            "Dist: (23, 77)\n"
          ]
        }
      ]
    },
    {
      "cell_type": "code",
      "source": [
        "# Converting dist cost data to a list of lists\n",
        "cost = dist.loc[:, 'New York':'Chula Vista'].values.tolist()\n",
        "cost = np.array(cost)"
      ],
      "metadata": {
        "id": "v07mEuDtlx27"
      },
      "execution_count": null,
      "outputs": []
    },
    {
      "cell_type": "markdown",
      "source": [
        "## Build optimization model"
      ],
      "metadata": {
        "id": "iGhAnTaYQz0g"
      }
    },
    {
      "cell_type": "code",
      "source": [
        "num_dc = 23 #row\n",
        "num_city = 76 #column\n",
        "\n",
        "model = ConcreteModel()\n",
        "\n",
        "# DVs\n",
        "model.x = Var(range(num_dc), domain = Binary) # loc dc i, model.x[i]\n",
        "model.y = Var(range(num_dc), range(num_city), domain = NonNegativeIntegers) # Assign demand to city j to dc i, model.y[i,j]\n",
        "\n",
        "# Objective: min total cost\n",
        "var_cost = sum(model.y[i,j]*cost[i][j] for i in range(num_dc) for j in range(num_city))\n",
        "fix_cost = sum(model.x[i]*fixedcost[i] for i in range(num_dc))\n",
        "model.Objective = Objective(expr = var_cost + fix_cost, sense = minimize)\n",
        "\n",
        "# Constraint: capacity\n",
        "model.capacity = ConstraintList()\n",
        "for i in range(num_dc):\n",
        "  model.capacity.add(sum(model.y[i,j] for j in range (num_city)) <= capacity[i]*model.x[i])\n",
        "\n",
        "# Contraint: demand\n",
        "model.demand = ConstraintList()\n",
        "for j in range(num_city): \n",
        "  model.demand.add(sum(model.y[i,j] for i in range(num_dc)) == demand[j])"
      ],
      "metadata": {
        "id": "ddzlTYxgem5S"
      },
      "execution_count": null,
      "outputs": []
    },
    {
      "cell_type": "code",
      "source": [
        "# Solve the model\n",
        "opt = SolverFactory('glpk')\n",
        "opt.options['tmlim'] = 5 # Specifies the time limit (in seconds)\n",
        "opt.options['mipgap'] = .0 # Specifies the optimality gap tolerance (.01 means can stop if <1% of optimal obj)\n",
        "results = opt.solve(model) # Set tee=True can see the details."
      ],
      "metadata": {
        "id": "7do8JkQkfKQV"
      },
      "execution_count": null,
      "outputs": []
    },
    {
      "cell_type": "code",
      "source": [
        "# Print the results\n",
        "print('Total Cost: ', model.Objective())"
      ],
      "metadata": {
        "id": "5snjAt40fKN3",
        "colab": {
          "base_uri": "https://localhost:8080/"
        },
        "outputId": "e69ba956-24bb-4f44-925e-15fc9396de8e"
      },
      "execution_count": null,
      "outputs": [
        {
          "output_type": "stream",
          "name": "stdout",
          "text": [
            "Total Cost:  58006498.0\n"
          ]
        }
      ]
    },
    {
      "cell_type": "code",
      "source": [
        "print('DC locations:')\n",
        "for i in range(num_dc):\n",
        "    if model.x[i]() > 0:\n",
        "        print(dc_loc[i],', ', 'Fixed Cost:', fixedcost[i])"
      ],
      "metadata": {
        "colab": {
          "base_uri": "https://localhost:8080/"
        },
        "id": "opNn5iuwABRR",
        "outputId": "8b8351f7-3ba1-43a2-a176-af12b5f2fea0"
      },
      "execution_count": null,
      "outputs": [
        {
          "output_type": "stream",
          "name": "stdout",
          "text": [
            "DC locations:\n",
            "Lubbock ,  Fixed Cost: 1323800\n",
            "Glendale ,  Fixed Cost: 1303100\n",
            "Winston–Salem ,  Fixed Cost: 2856900\n",
            "Irving ,  Fixed Cost: 1275700\n",
            "Fremont ,  Fixed Cost: 2114800\n"
          ]
        }
      ]
    },
    {
      "cell_type": "code",
      "source": [
        "print('City Distribution:')\n",
        "for i in range(num_dc):\n",
        "    if model.x[i]() > 0:\n",
        "        for j in range(num_city):\n",
        "            if model.y[i,j]() > 0:\n",
        "                print('DC:', dc_loc[i], ',', 'City:', cities[j], ',', model.y[i,j](), 'thousand units,', 'Cost:', model.y[i,j]()*dist.loc[i][j+1])"
      ],
      "metadata": {
        "colab": {
          "base_uri": "https://localhost:8080/"
        },
        "id": "prGiSdyj8B2Q",
        "outputId": "f01b3447-bd72-4c75-f562-aebd20eaacf4"
      },
      "execution_count": null,
      "outputs": [
        {
          "output_type": "stream",
          "name": "stdout",
          "text": [
            "City Distribution:\n",
            "DC: Lubbock , City: Los Angeles , 3999.0 thousand units, Cost: 3175206.0\n",
            "DC: Lubbock , City: Houston , 3284.0 thousand units, Cost: 3277432.0\n",
            "DC: Lubbock , City: San Diego , 1419.0 thousand units, Cost: 188727.0\n",
            "DC: Lubbock , City: San Jose , 1035.0 thousand units, Cost: 928395.0\n",
            "DC: Lubbock , City: Indianapolis , 863.0 thousand units, Cost: 139806.0\n",
            "DC: Lubbock , City: Seattle , 724.0 thousand units, Cost: 424988.0\n",
            "DC: Lubbock , City: Washington, D.C. , 693.0 thousand units, Cost: 314622.0\n",
            "DC: Lubbock , City: Memphis , 620.0 thousand units, Cost: 344720.0\n",
            "DC: Lubbock , City: Las Vegas , 672.0 thousand units, Cost: 213696.0\n",
            "DC: Lubbock , City: Albuquerque , 416.0 thousand units, Cost: 242112.0\n",
            "DC: Lubbock , City: Tucson , 768.0 thousand units, Cost: 148224.0\n",
            "DC: Lubbock , City: Mesa , 614.0 thousand units, Cost: 140606.0\n",
            "DC: Lubbock , City: Kansas City , 742.0 thousand units, Cost: 1136002.0\n",
            "DC: Lubbock , City: Long Beach , 553.0 thousand units, Cost: 376040.0\n",
            "DC: Lubbock , City: Omaha , 324.0 thousand units, Cost: 36288.0\n",
            "DC: Lubbock , City: Raleigh , 463.0 thousand units, Cost: 480131.0\n",
            "DC: Lubbock , City: Colorado Springs , 577.0 thousand units, Cost: 11540.0\n",
            "DC: Lubbock , City: Minneapolis , 371.0 thousand units, Cost: 166579.0\n",
            "DC: Lubbock , City: New Orleans , 318.0 thousand units, Cost: 189210.0\n",
            "DC: Lubbock , City: Wichita , 580.0 thousand units, Cost: 233740.0\n",
            "DC: Lubbock , City: Tampa , 756.0 thousand units, Cost: 291816.0\n",
            "DC: Lubbock , City: Aurora , 654.0 thousand units, Cost: 245250.0\n",
            "DC: Lubbock , City: Anaheim , 783.0 thousand units, Cost: 752463.0\n",
            "DC: Lubbock , City: Corpus Christi , 524.0 thousand units, Cost: 13100.0\n",
            "DC: Lubbock , City: Stockton , 419.0 thousand units, Cost: 162572.0\n",
            "DC: Lubbock , City: Cincinnati , 665.0 thousand units, Cost: 47215.0\n",
            "DC: Lubbock , City: Anchorage , 671.0 thousand units, Cost: 31537.0\n",
            "DC: Lubbock , City: Greensboro , 795.0 thousand units, Cost: 386370.0\n",
            "DC: Glendale , City: Phoenix , 1626.0 thousand units, Cost: 460158.0\n",
            "DC: Glendale , City: San Antonio , 1511.0 thousand units, Cost: 1568418.0\n",
            "DC: Glendale , City: Fort Worth , 874.0 thousand units, Cost: 621414.0\n",
            "DC: Glendale , City: Denver , 901.0 thousand units, Cost: 419866.0\n",
            "DC: Glendale , City: Oklahoma City , 351.0 thousand units, Cost: 249561.0\n",
            "DC: Glendale , City: Fresno , 444.0 thousand units, Cost: 400488.0\n",
            "DC: Glendale , City: Tulsa , 425.0 thousand units, Cost: 111775.0\n",
            "DC: Glendale , City: Bakersfield , 357.0 thousand units, Cost: 297024.0\n",
            "DC: Glendale , City: Saint Paul , 494.0 thousand units, Cost: 218842.0\n",
            "DC: Glendale , City: Henderson , 431.0 thousand units, Cost: 237050.0\n",
            "DC: Glendale , City: Orlando , 517.0 thousand units, Cost: 243507.0\n",
            "DC: Glendale , City: Jersey City , 569.0 thousand units, Cost: 729458.0\n",
            "DC: Winston–Salem , City: Chicago , 2716.0 thousand units, Cost: 1569848.0\n",
            "DC: Winston–Salem , City: Dallas , 1341.0 thousand units, Cost: 250767.0\n",
            "DC: Winston–Salem , City: Jacksonville , 892.0 thousand units, Cost: 1344244.0\n",
            "DC: Winston–Salem , City: San Francisco , 884.0 thousand units, Cost: 228072.0\n",
            "DC: Winston–Salem , City: Columbus , 879.0 thousand units, Cost: 800769.0\n",
            "DC: Winston–Salem , City: Boston , 685.0 thousand units, Cost: 559645.0\n",
            "DC: Winston–Salem , City: El Paso , 874.0 thousand units, Cost: 541006.0\n",
            "DC: Winston–Salem , City: Detroit , 683.0 thousand units, Cost: 173482.0\n",
            "DC: Winston–Salem , City: Nashville , 773.0 thousand units, Cost: 758313.0\n",
            "DC: Winston–Salem , City: Baltimore , 779.0 thousand units, Cost: 417544.0\n",
            "DC: Winston–Salem , City: Sacramento , 791.0 thousand units, Cost: 37968.0\n",
            "DC: Winston–Salem , City: Atlanta , 793.0 thousand units, Cost: 170495.0\n",
            "DC: Winston–Salem , City: Virginia Beach , 575.0 thousand units, Cost: 431825.0\n",
            "DC: Winston–Salem , City: Cleveland , 496.0 thousand units, Cost: 138880.0\n",
            "DC: Winston–Salem , City: Honolulu , 755.0 thousand units, Cost: 462060.0\n",
            "DC: Winston–Salem , City: Lexington , 663.0 thousand units, Cost: 1056822.0\n",
            "DC: Winston–Salem , City: St. Louis , 537.0 thousand units, Cost: 512835.0\n",
            "DC: Winston–Salem , City: Newark , 496.0 thousand units, Cost: 281232.0\n",
            "DC: Winston–Salem , City: Toledo , 357.0 thousand units, Cost: 57120.0\n",
            "DC: Winston–Salem , City: Chula Vista , 371.0 thousand units, Cost: 336126.0\n",
            "DC: Irving , City: New York , 2722.0 thousand units, Cost: 2945204.0\n",
            "DC: Irving , City: Charlotte , 859.0 thousand units, Cost: 448398.0\n",
            "DC: Irving , City: Portland , 414.0 thousand units, Cost: 627624.0\n",
            "DC: Irving , City: Louisville , 440.0 thousand units, Cost: 400400.0\n",
            "DC: Irving , City: Oakland , 483.0 thousand units, Cost: 452571.0\n",
            "DC: Irving , City: Plano , 752.0 thousand units, Cost: 354192.0\n",
            "DC: Irving , City: Irvine , 338.0 thousand units, Cost: 235248.0\n",
            "DC: Fremont , City: New York , 5900.0 thousand units, Cost: 7192100.0\n",
            "DC: Fremont , City: Philadelphia , 1580.0 thousand units, Cost: 1812260.0\n",
            "DC: Fremont , City: Austin , 950.0 thousand units, Cost: 1511450.0\n",
            "DC: Fremont , City: Milwaukee , 633.0 thousand units, Cost: 1088760.0\n",
            "DC: Fremont , City: Miami , 388.0 thousand units, Cost: 304968.0\n",
            "DC: Fremont , City: Arlington , 638.0 thousand units, Cost: 256476.0\n",
            "DC: Fremont , City: Santa Ana , 730.0 thousand units, Cost: 367190.0\n",
            "DC: Fremont , City: Riverside , 555.0 thousand units, Cost: 356310.0\n",
            "DC: Fremont , City: Pittsburgh , 371.0 thousand units, Cost: 228536.0\n",
            "DC: Fremont , City: Lincoln , 646.0 thousand units, Cost: 765510.0\n"
          ]
        }
      ]
    }
  ]
}